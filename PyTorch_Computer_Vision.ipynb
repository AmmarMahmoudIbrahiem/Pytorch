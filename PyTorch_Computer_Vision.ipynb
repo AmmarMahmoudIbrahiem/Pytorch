{
  "cells": [
    {
      "cell_type": "markdown",
      "metadata": {
        "id": "view-in-github",
        "colab_type": "text"
      },
      "source": [
        "<a href=\"https://colab.research.google.com/github/AmmarMahmoudIbrahiem/Pytorch/blob/main/PyTorch_Computer_Vision.ipynb\" target=\"_parent\"><img src=\"https://colab.research.google.com/assets/colab-badge.svg\" alt=\"Open In Colab\"/></a>"
      ]
    },
    {
      "cell_type": "code",
      "execution_count": null,
      "metadata": {
        "colab": {
          "base_uri": "https://localhost:8080/"
        },
        "id": "0JfK03ffc_3b",
        "outputId": "ae50e9bb-deb2-40a5-fbc4-6fff273d4fbe"
      },
      "outputs": [
        {
          "name": "stdout",
          "output_type": "stream",
          "text": [
            "PyTorch version: 2.6.0+cu124\n",
            "torchvision version: 0.21.0+cu124\n"
          ]
        }
      ],
      "source": [
        "# Import PyTorch\n",
        "import torch\n",
        "from torch import nn\n",
        "\n",
        "# Import torchvision\n",
        "import torchvision\n",
        "from torchvision import datasets\n",
        "from torchvision.transforms import ToTensor\n",
        "\n",
        "# Import matplotlib for visualization\n",
        "import matplotlib.pyplot as plt\n",
        "\n",
        "# Check versions\n",
        "# Note: your PyTorch version shouldn't be lower than 1.10.0 and torchvision version shouldn't be lower than 0.11\n",
        "print(f\"PyTorch version: {torch.__version__}\\ntorchvision version: {torchvision.__version__}\")"
      ]
    },
    {
      "cell_type": "code",
      "execution_count": null,
      "metadata": {
        "colab": {
          "base_uri": "https://localhost:8080/"
        },
        "id": "UiHy2Xg7e6-R",
        "outputId": "5cbac1c2-a8ea-4941-ad9f-3c0a5ebe933c"
      },
      "outputs": [
        {
          "name": "stderr",
          "output_type": "stream",
          "text": [
            "100%|██████████| 26.4M/26.4M [00:02<00:00, 13.2MB/s]\n",
            "100%|██████████| 29.5k/29.5k [00:00<00:00, 209kB/s]\n",
            "100%|██████████| 4.42M/4.42M [00:01<00:00, 3.87MB/s]\n",
            "100%|██████████| 5.15k/5.15k [00:00<00:00, 7.71MB/s]\n"
          ]
        }
      ],
      "source": [
        "# Setup training data\n",
        "train_data = datasets.FashionMNIST(\n",
        "    root=\"data\", # where to download data to?\n",
        "    train=True, # get training data\n",
        "    download=True, # download data if it doesn't exist on disk\n",
        "    transform=ToTensor(), # images come as PIL format, we want to turn into Torch tensors\n",
        "    target_transform=None # you can transform labels as well\n",
        ")\n",
        "\n",
        "# Setup testing data\n",
        "test_data = datasets.FashionMNIST(\n",
        "    root=\"data\",\n",
        "    train=False, # get test data\n",
        "    download=True,\n",
        "    transform=ToTensor()\n",
        ")"
      ]
    },
    {
      "cell_type": "markdown",
      "metadata": {
        "id": "tyj7nE3SiC3g"
      },
      "source": []
    },
    {
      "cell_type": "code",
      "execution_count": null,
      "metadata": {
        "colab": {
          "base_uri": "https://localhost:8080/"
        },
        "id": "Sm3hyx_RfMRJ",
        "outputId": "6c023887-bf4d-4942-83a3-c8acbe7a4b3c"
      },
      "outputs": [
        {
          "data": {
            "text/plain": [
              "(tensor([[[0.0000, 0.0000, 0.0000, 0.0000, 0.0039, 0.0000, 0.0000, 0.0000,\n",
              "           0.0000, 0.0863, 0.3451, 0.7373, 0.6745, 0.5176, 0.4902, 0.5529,\n",
              "           0.7804, 0.5608, 0.0353, 0.0000, 0.0000, 0.0000, 0.0039, 0.0000,\n",
              "           0.0000, 0.0000, 0.0000, 0.0000],\n",
              "          [0.0000, 0.0000, 0.0000, 0.0039, 0.0000, 0.0000, 0.0784, 0.5137,\n",
              "           0.7804, 0.8078, 0.7686, 0.7922, 0.9490, 1.0000, 1.0000, 0.9804,\n",
              "           0.8706, 0.7725, 0.8078, 0.7373, 0.4941, 0.0667, 0.0000, 0.0000,\n",
              "           0.0000, 0.0000, 0.0000, 0.0000],\n",
              "          [0.0000, 0.0000, 0.0000, 0.0039, 0.0000, 0.1373, 0.8392, 0.7490,\n",
              "           0.7176, 0.6980, 0.6863, 0.6588, 0.5882, 0.6353, 0.6235, 0.5961,\n",
              "           0.6196, 0.7020, 0.7176, 0.7412, 0.7647, 0.7255, 0.3216, 0.0000,\n",
              "           0.0000, 0.0000, 0.0000, 0.0000],\n",
              "          [0.0000, 0.0000, 0.0000, 0.0000, 0.0000, 0.6667, 0.7451, 0.6745,\n",
              "           0.6941, 0.6902, 0.6706, 0.6627, 0.6353, 0.6078, 0.5804, 0.6039,\n",
              "           0.6627, 0.6824, 0.6863, 0.6863, 0.6941, 0.7176, 0.7373, 0.0471,\n",
              "           0.0000, 0.0000, 0.0000, 0.0000],\n",
              "          [0.0000, 0.0000, 0.0000, 0.0000, 0.0980, 0.7608, 0.7059, 0.6980,\n",
              "           0.6824, 0.7216, 0.7333, 0.7412, 0.7333, 0.7216, 0.7098, 0.7412,\n",
              "           0.7843, 0.7725, 0.7569, 0.7451, 0.6980, 0.6863, 0.7608, 0.3529,\n",
              "           0.0000, 0.0000, 0.0000, 0.0000],\n",
              "          [0.0000, 0.0000, 0.0000, 0.0000, 0.1647, 0.8549, 0.7490, 0.7725,\n",
              "           0.8157, 0.8000, 0.8275, 0.8196, 0.8235, 0.8314, 0.8275, 0.8392,\n",
              "           0.8431, 0.8353, 0.8392, 0.8275, 0.8275, 0.7490, 0.7843, 0.6196,\n",
              "           0.0000, 0.0000, 0.0000, 0.0000],\n",
              "          [0.0000, 0.0000, 0.0000, 0.0000, 0.3451, 0.8667, 0.8431, 0.8510,\n",
              "           0.8588, 0.8275, 0.7255, 0.5882, 0.4627, 0.4196, 0.3882, 0.3451,\n",
              "           0.3255, 0.3529, 0.5294, 0.8314, 0.7961, 0.8118, 0.8588, 0.6627,\n",
              "           0.0000, 0.0000, 0.0000, 0.0000],\n",
              "          [0.0000, 0.0000, 0.0000, 0.0000, 0.0000, 0.1059, 0.4627, 0.6353,\n",
              "           0.1569, 0.0000, 0.0000, 0.0000, 0.0392, 0.0745, 0.1098, 0.1529,\n",
              "           0.1843, 0.1412, 0.0000, 0.0000, 0.7961, 0.9020, 0.8627, 0.7961,\n",
              "           0.0000, 0.0000, 0.0000, 0.0000],\n",
              "          [0.0000, 0.0000, 0.0000, 0.0000, 0.5412, 0.5333, 0.2784, 0.2706,\n",
              "           0.2118, 0.8471, 0.8510, 0.7961, 0.7216, 0.6588, 0.6392, 0.6353,\n",
              "           0.6392, 0.6980, 0.8667, 0.7294, 0.1490, 0.1020, 0.0275, 0.0000,\n",
              "           0.0000, 0.0000, 0.0000, 0.0000],\n",
              "          [0.0000, 0.0000, 0.0000, 0.0000, 0.2627, 0.5255, 0.6039, 0.8784,\n",
              "           0.5059, 0.2588, 0.3176, 0.4588, 0.5059, 0.5020, 0.5176, 0.5373,\n",
              "           0.5137, 0.5059, 0.3373, 0.2863, 0.6157, 0.5922, 0.5255, 0.8471,\n",
              "           0.0706, 0.0000, 0.0000, 0.0000],\n",
              "          [0.0000, 0.0000, 0.0000, 0.0000, 0.7961, 0.7765, 0.6745, 0.7176,\n",
              "           0.8078, 1.0000, 1.0000, 0.9804, 0.9529, 0.9412, 0.9373, 0.9216,\n",
              "           0.9333, 0.9569, 1.0000, 0.9333, 0.7216, 0.6275, 0.3373, 0.3843,\n",
              "           0.0000, 0.0000, 0.0000, 0.0000],\n",
              "          [0.0000, 0.0000, 0.0000, 0.0000, 0.4784, 0.7373, 0.8784, 0.5922,\n",
              "           0.4118, 0.4980, 0.3804, 0.3922, 0.4118, 0.4471, 0.4588, 0.4588,\n",
              "           0.4431, 0.4039, 0.3843, 0.4353, 0.5569, 0.9961, 0.7490, 1.0000,\n",
              "           0.1922, 0.0000, 0.0000, 0.0000],\n",
              "          [0.0000, 0.0000, 0.0000, 0.0000, 0.6392, 0.7020, 0.7843, 0.3725,\n",
              "           0.6039, 0.7765, 0.7725, 0.7843, 0.7843, 0.7765, 0.7725, 0.7765,\n",
              "           0.7804, 0.7922, 0.7843, 0.6902, 0.3373, 0.8078, 0.6157, 0.6353,\n",
              "           0.0392, 0.0000, 0.0000, 0.0000],\n",
              "          [0.0000, 0.0000, 0.0000, 0.0000, 0.7725, 0.7882, 0.8980, 0.2784,\n",
              "           0.5647, 0.7608, 0.7098, 0.7176, 0.7020, 0.7137, 0.7059, 0.7020,\n",
              "           0.7059, 0.7451, 0.7255, 0.7725, 0.2980, 0.8588, 0.7255, 0.7882,\n",
              "           0.1333, 0.0000, 0.0000, 0.0000],\n",
              "          [0.0000, 0.0000, 0.0000, 0.0000, 0.7804, 0.7569, 0.8863, 0.2275,\n",
              "           0.6039, 0.7529, 0.7216, 0.7333, 0.7216, 0.7294, 0.7216, 0.7255,\n",
              "           0.7176, 0.7529, 0.7490, 0.7843, 0.2196, 0.8588, 0.7961, 0.8118,\n",
              "           0.2353, 0.0000, 0.0000, 0.0000],\n",
              "          [0.0000, 0.0000, 0.0000, 0.0000, 0.7882, 0.7608, 0.8784, 0.1608,\n",
              "           0.6392, 0.7451, 0.7294, 0.7294, 0.7216, 0.7255, 0.7176, 0.7255,\n",
              "           0.6980, 0.7451, 0.7608, 0.7922, 0.1294, 0.8275, 0.7843, 0.8078,\n",
              "           0.2863, 0.0000, 0.0000, 0.0000],\n",
              "          [0.0000, 0.0000, 0.0000, 0.0000, 0.7882, 0.7725, 0.8706, 0.0667,\n",
              "           0.6745, 0.7451, 0.7294, 0.7333, 0.7137, 0.7294, 0.7255, 0.7333,\n",
              "           0.7059, 0.7333, 0.7569, 0.7922, 0.1020, 0.8314, 0.7922, 0.7961,\n",
              "           0.2980, 0.0000, 0.0000, 0.0000],\n",
              "          [0.0000, 0.0000, 0.0000, 0.0000, 0.7843, 0.7725, 0.8745, 0.0000,\n",
              "           0.6941, 0.7412, 0.7216, 0.7255, 0.6980, 0.7216, 0.7176, 0.7216,\n",
              "           0.7059, 0.7176, 0.7412, 0.7961, 0.1373, 0.7686, 0.7961, 0.7961,\n",
              "           0.3294, 0.0000, 0.0000, 0.0000],\n",
              "          [0.0000, 0.0000, 0.0000, 0.0000, 0.7843, 0.7725, 0.8745, 0.0000,\n",
              "           0.7255, 0.7333, 0.7255, 0.7333, 0.7059, 0.7216, 0.7137, 0.7176,\n",
              "           0.6980, 0.7137, 0.7176, 0.8039, 0.1725, 0.6235, 0.8118, 0.7882,\n",
              "           0.3333, 0.0000, 0.0000, 0.0000],\n",
              "          [0.0000, 0.0000, 0.0000, 0.0000, 0.7333, 0.7765, 0.8824, 0.0000,\n",
              "           0.7608, 0.7373, 0.7216, 0.7255, 0.7059, 0.7176, 0.7176, 0.7216,\n",
              "           0.7098, 0.7098, 0.6941, 0.8078, 0.1804, 0.5059, 0.8275, 0.7843,\n",
              "           0.3451, 0.0000, 0.0000, 0.0000],\n",
              "          [0.0000, 0.0000, 0.0000, 0.0235, 0.7294, 0.7843, 0.8275, 0.0000,\n",
              "           0.7804, 0.7412, 0.7216, 0.7216, 0.7255, 0.7137, 0.7176, 0.7216,\n",
              "           0.7255, 0.7137, 0.6863, 0.8039, 0.1961, 0.3804, 0.8471, 0.7725,\n",
              "           0.3647, 0.0000, 0.0000, 0.0000],\n",
              "          [0.0000, 0.0000, 0.0000, 0.0196, 0.7255, 0.8000, 0.7216, 0.0000,\n",
              "           0.7922, 0.7373, 0.7137, 0.7137, 0.7176, 0.7176, 0.7216, 0.7137,\n",
              "           0.7059, 0.7137, 0.6824, 0.7922, 0.2471, 0.2314, 0.8627, 0.7686,\n",
              "           0.3686, 0.0000, 0.0000, 0.0000],\n",
              "          [0.0000, 0.0000, 0.0000, 0.0196, 0.7216, 0.8078, 0.6157, 0.0000,\n",
              "           0.8000, 0.7333, 0.7333, 0.7412, 0.7529, 0.7451, 0.7451, 0.7490,\n",
              "           0.7451, 0.7333, 0.7176, 0.7922, 0.3059, 0.1373, 0.8706, 0.7725,\n",
              "           0.3725, 0.0000, 0.0000, 0.0000],\n",
              "          [0.0000, 0.0000, 0.0000, 0.0196, 0.7176, 0.8157, 0.4980, 0.0000,\n",
              "           0.7725, 0.6510, 0.6000, 0.5843, 0.5843, 0.5725, 0.5804, 0.5843,\n",
              "           0.5882, 0.5922, 0.6196, 0.7490, 0.3529, 0.0314, 0.8745, 0.7647,\n",
              "           0.3882, 0.0000, 0.0000, 0.0000],\n",
              "          [0.0000, 0.0000, 0.0000, 0.0235, 0.7216, 0.8157, 0.4471, 0.0000,\n",
              "           0.8000, 0.6784, 0.6314, 0.7059, 0.6902, 0.6745, 0.6784, 0.6784,\n",
              "           0.6824, 0.6902, 0.6353, 0.7922, 0.4510, 0.0000, 0.8980, 0.7804,\n",
              "           0.4118, 0.0000, 0.0000, 0.0000],\n",
              "          [0.0000, 0.0000, 0.0000, 0.0353, 0.6980, 0.8000, 0.4510, 0.0000,\n",
              "           0.4745, 0.5294, 0.4471, 0.4588, 0.4471, 0.4471, 0.4588, 0.4627,\n",
              "           0.4667, 0.4588, 0.4431, 0.5765, 0.2471, 0.0000, 0.8824, 0.7686,\n",
              "           0.4196, 0.0000, 0.0000, 0.0000],\n",
              "          [0.0000, 0.0000, 0.0000, 0.0706, 0.7059, 0.8078, 0.5137, 0.0000,\n",
              "           0.0000, 0.0000, 0.0000, 0.0000, 0.0000, 0.0000, 0.0000, 0.0000,\n",
              "           0.0000, 0.0000, 0.0000, 0.0000, 0.0000, 0.0000, 0.8784, 0.7725,\n",
              "           0.4824, 0.0000, 0.0000, 0.0000],\n",
              "          [0.0000, 0.0000, 0.0000, 0.0000, 0.5529, 0.5922, 0.2980, 0.0000,\n",
              "           0.0039, 0.0039, 0.0000, 0.0000, 0.0000, 0.0000, 0.0000, 0.0000,\n",
              "           0.0000, 0.0000, 0.0000, 0.0000, 0.0000, 0.0000, 0.5216, 0.6549,\n",
              "           0.2863, 0.0000, 0.0000, 0.0000]]]),\n",
              " 2)"
            ]
          },
          "execution_count": 5,
          "metadata": {},
          "output_type": "execute_result"
        }
      ],
      "source": [
        "# See first training sample\n",
        "image, label = train_data[5]\n",
        "image, label"
      ]
    },
    {
      "cell_type": "markdown",
      "metadata": {
        "id": "MYc2N5t_f5ev"
      },
      "source": [
        "##Input and output shapes of a computer vision model"
      ]
    },
    {
      "cell_type": "code",
      "execution_count": null,
      "metadata": {
        "colab": {
          "base_uri": "https://localhost:8080/"
        },
        "id": "39wzvOFLfjGn",
        "outputId": "0f6a068d-f252-4261-eed5-14f5bb9f755b"
      },
      "outputs": [
        {
          "data": {
            "text/plain": [
              "torch.Size([1, 28, 28])"
            ]
          },
          "execution_count": 6,
          "metadata": {},
          "output_type": "execute_result"
        }
      ],
      "source": [
        "# What's the shape of the image?\n",
        "image.shape"
      ]
    },
    {
      "cell_type": "code",
      "execution_count": null,
      "metadata": {
        "colab": {
          "base_uri": "https://localhost:8080/"
        },
        "id": "5Ba3LAK6gBXy",
        "outputId": "9fc53a59-d7b5-41a6-b28d-fa93e679c995"
      },
      "outputs": [
        {
          "data": {
            "text/plain": [
              "(60000, 60000, 10000, 10000)"
            ]
          },
          "execution_count": 7,
          "metadata": {},
          "output_type": "execute_result"
        }
      ],
      "source": [
        "# How many samples are there?\n",
        "len(train_data.data), len(train_data.targets), len(test_data.data), len(test_data.targets)"
      ]
    },
    {
      "cell_type": "code",
      "execution_count": null,
      "metadata": {
        "colab": {
          "base_uri": "https://localhost:8080/"
        },
        "id": "YK2W167Rgb0L",
        "outputId": "84c764ce-654e-4f92-9d61-77540dddceb7"
      },
      "outputs": [
        {
          "data": {
            "text/plain": [
              "['T-shirt/top',\n",
              " 'Trouser',\n",
              " 'Pullover',\n",
              " 'Dress',\n",
              " 'Coat',\n",
              " 'Sandal',\n",
              " 'Shirt',\n",
              " 'Sneaker',\n",
              " 'Bag',\n",
              " 'Ankle boot']"
            ]
          },
          "execution_count": 8,
          "metadata": {},
          "output_type": "execute_result"
        }
      ],
      "source": [
        "# See classes\n",
        "class_names = train_data.classes\n",
        "class_names\n"
      ]
    },
    {
      "cell_type": "code",
      "execution_count": null,
      "metadata": {
        "colab": {
          "base_uri": "https://localhost:8080/",
          "height": 469
        },
        "id": "pCfz_iTNgpZK",
        "outputId": "f6137b16-8c8c-4d34-e87f-b841903a06e3"
      },
      "outputs": [
        {
          "name": "stdout",
          "output_type": "stream",
          "text": [
            "Image shape: torch.Size([1, 28, 28])\n"
          ]
        },
        {
          "data": {
            "image/png": "[encoded data removed]",
            "text/plain": [
              "<Figure size 640x480 with 1 Axes>"
            ]
          },
          "metadata": {},
          "output_type": "display_data"
        }
      ],
      "source": [
        "import matplotlib.pyplot as plt\n",
        "image, label = train_data[10]\n",
        "print(f\"Image shape: {image.shape}\")\n",
        "plt.imshow(image.squeeze()) # image shape is [1, 28, 28] (colour channels, height, width)\n",
        "plt.title(label);"
      ]
    },
    {
      "cell_type": "code",
      "execution_count": null,
      "metadata": {
        "colab": {
          "background_save": true,
          "base_uri": "https://localhost:8080/",
          "height": 452
        },
        "id": "dPwDtGNvgziQ",
        "outputId": "726debce-64dd-48c4-91f2-77f2c5950c8d"
      },
      "outputs": [
        {
          "data": {
            "image/png": "[encoded data removed]",
            "text/plain": [
              "<Figure size 640x480 with 1 Axes>"
            ]
          },
          "metadata": {},
          "output_type": "display_data"
        }
      ],
      "source": [
        "plt.imshow(image.squeeze(), cmap=\"gray\")\n",
        "plt.title(class_names[label]);"
      ]
    },
    {
      "cell_type": "code",
      "execution_count": null,
      "metadata": {
        "colab": {
          "background_save": true,
          "base_uri": "https://localhost:8080/",
          "height": 752
        },
        "id": "fBxcYkHhhOL2",
        "outputId": "95de4c9e-a4c0-47e9-a197-63452f8428bd"
      },
      "outputs": [
        {
          "data": {
            "image/png": "[encoded data removed]",
            "text/plain": [
              "<Figure size 900x900 with 16 Axes>"
            ]
          },
          "metadata": {},
          "output_type": "display_data"
        }
      ],
      "source": [
        "# Plot more images\n",
        "torch.manual_seed(42)\n",
        "fig = plt.figure(figsize=(9, 9))\n",
        "rows, cols = 4, 4\n",
        "for i in range(1, rows * cols + 1):\n",
        "    random_idx = torch.randint(0, len(train_data), size=[1]).item()\n",
        "    img, label = train_data[random_idx]\n",
        "    fig.add_subplot(rows, cols, i)\n",
        "    plt.imshow(img.squeeze(), cmap=\"gray\")\n",
        "    plt.title(class_names[label])\n",
        "    plt.axis(False);"
      ]
    },
    {
      "cell_type": "markdown",
      "metadata": {
        "id": "GBos5G45iH-N"
      },
      "source": [
        "##Prepare DataLoader¶\n",
        "\n"
      ]
    },
    {
      "cell_type": "code",
      "execution_count": null,
      "metadata": {
        "colab": {
          "background_save": true,
          "base_uri": "https://localhost:8080/"
        },
        "id": "mSl5LrXQhZU3",
        "outputId": "9fb49090-3a39-4e87-86d7-91dd2f9bc539"
      },
      "outputs": [
        {
          "name": "stdout",
          "output_type": "stream",
          "text": [
            "Dataloaders: (<torch.utils.data.dataloader.DataLoader object at 0x792128864ad0>, <torch.utils.data.dataloader.DataLoader object at 0x79212817d790>)\n",
            "Length of train dataloader: 1875 batches of 32\n",
            "Length of test dataloader: 313 batches of 32\n"
          ]
        }
      ],
      "source": [
        "from torch.utils.data import DataLoader\n",
        "\n",
        "# Setup the batch size hyperparameter\n",
        "BATCH_SIZE = 32\n",
        "\n",
        "# Turn datasets into iterables (batches)\n",
        "train_dataloader = DataLoader(train_data, # dataset to turn into iterable\n",
        "    batch_size=BATCH_SIZE, # how many samples per batch?\n",
        "    shuffle=True # shuffle data every epoch?\n",
        ")\n",
        "\n",
        "test_dataloader = DataLoader(test_data,\n",
        "    batch_size=BATCH_SIZE,\n",
        "    shuffle=False # don't necessarily have to shuffle the testing data\n",
        ")\n",
        "\n",
        "# Let's check out what we've created\n",
        "print(f\"Dataloaders: {train_dataloader, test_dataloader}\")\n",
        "print(f\"Length of train dataloader: {len(train_dataloader)} batches of {BATCH_SIZE}\")\n",
        "print(f\"Length of test dataloader: {len(test_dataloader)} batches of {BATCH_SIZE}\")"
      ]
    },
    {
      "cell_type": "code",
      "execution_count": null,
      "metadata": {
        "colab": {
          "background_save": true,
          "base_uri": "https://localhost:8080/"
        },
        "id": "LZsyFOgAiOVx",
        "outputId": "c6120693-9ed9-4246-c412-9fac0aca6c2a"
      },
      "outputs": [
        {
          "data": {
            "text/plain": [
              "(torch.Size([32, 1, 28, 28]), torch.Size([32]))"
            ]
          },
          "execution_count": 39,
          "metadata": {},
          "output_type": "execute_result"
        }
      ],
      "source": [
        "# Check out what's inside the training dataloader\n",
        "train_features_batch, train_labels_batch = next(iter(train_dataloader))\n",
        "train_features_batch.shape, train_labels_batch.shape"
      ]
    },
    {
      "cell_type": "code",
      "execution_count": null,
      "metadata": {
        "colab": {
          "background_save": true,
          "base_uri": "https://localhost:8080/",
          "height": 463
        },
        "id": "-v_YVTWFiYpP",
        "outputId": "e5e95a19-6eee-4a0f-9464-22259aeb26f0"
      },
      "outputs": [
        {
          "name": "stdout",
          "output_type": "stream",
          "text": [
            "Image size: torch.Size([1, 28, 28])\n",
            "Label: 6, label size: torch.Size([])\n"
          ]
        },
        {
          "data": {
            "image/png": "[encoded data removed]",
            "text/plain": [
              "<Figure size 640x480 with 1 Axes>"
            ]
          },
          "metadata": {},
          "output_type": "display_data"
        }
      ],
      "source": [
        "# Show a sample\n",
        "torch.manual_seed(42)\n",
        "random_idx = torch.randint(0, len(train_features_batch), size=[1]).item()\n",
        "img, label = train_features_batch[random_idx], train_labels_batch[random_idx]\n",
        "plt.imshow(img.squeeze(), cmap=\"gray\")\n",
        "plt.title(class_names[label])\n",
        "plt.axis(\"Off\");\n",
        "print(f\"Image size: {img.shape}\")\n",
        "print(f\"Label: {label}, label size: {label.shape}\")"
      ]
    },
    {
      "cell_type": "markdown",
      "metadata": {
        "id": "lICheQgXirI9"
      },
      "source": [
        "## Model 0: Build a baseline model"
      ]
    },
    {
      "cell_type": "code",
      "execution_count": null,
      "metadata": {
        "colab": {
          "background_save": true,
          "base_uri": "https://localhost:8080/"
        },
        "id": "FaOg7MnximIC",
        "outputId": "bd55a902-5f61-4f31-8b08-56a51fccab3d"
      },
      "outputs": [
        {
          "name": "stdout",
          "output_type": "stream",
          "text": [
            "Shape before flattening: torch.Size([1, 28, 28]) -> [color_channels, height, width]\n",
            "Shape after flattening: torch.Size([1, 784]) -> [color_channels, height*width]\n"
          ]
        }
      ],
      "source": [
        "# Create a flatten layer\n",
        "flatten_model = nn.Flatten() # all nn modules function as a model (can do a forward pass)\n",
        "\n",
        "# Get a single sample\n",
        "x = train_features_batch[0]\n",
        "\n",
        "# Flatten the sample\n",
        "output = flatten_model(x) # perform forward pass\n",
        "\n",
        "# Print out what happened\n",
        "print(f\"Shape before flattening: {x.shape} -> [color_channels, height, width]\")\n",
        "print(f\"Shape after flattening: {output.shape} -> [color_channels, height*width]\")\n",
        "\n",
        "# Try uncommenting below and see what happens\n",
        "#print(x)\n",
        "#print(output)"
      ]
    },
    {
      "cell_type": "code",
      "execution_count": null,
      "metadata": {
        "colab": {
          "background_save": true
        },
        "id": "CBkMW40AjGBU"
      },
      "outputs": [],
      "source": [
        "from torch import nn\n",
        "class FashionMNISTModelV0(nn.Module):\n",
        "    def __init__(self, input_shape: int, hidden_units: int, output_shape: int):\n",
        "        super().__init__()\n",
        "        self.layer_stack = nn.Sequential(\n",
        "            nn.Flatten(), # neural networks like their inputs in vector form\n",
        "            nn.Linear(in_features=input_shape, out_features=hidden_units), # in_features = number of features in a data sample (784 pixels)\n",
        "            nn.Linear(in_features=hidden_units, out_features=output_shape)\n",
        "        )\n",
        "\n",
        "    def forward(self, x):\n",
        "        return self.layer_stack(x)"
      ]
    },
    {
      "cell_type": "code",
      "execution_count": null,
      "metadata": {
        "colab": {
          "background_save": true,
          "base_uri": "https://localhost:8080/"
        },
        "id": "L7Ro76QTkBkP",
        "outputId": "7dc83883-a9b1-47e5-b237-26d48d4d3c78"
      },
      "outputs": [
        {
          "data": {
            "text/plain": [
              "FashionMNISTModelV0(\n",
              "  (layer_stack): Sequential(\n",
              "    (0): Flatten(start_dim=1, end_dim=-1)\n",
              "    (1): Linear(in_features=784, out_features=10, bias=True)\n",
              "    (2): Linear(in_features=10, out_features=10, bias=True)\n",
              "  )\n",
              ")"
            ]
          },
          "execution_count": 43,
          "metadata": {},
          "output_type": "execute_result"
        }
      ],
      "source": [
        "torch.manual_seed(42)\n",
        "\n",
        "# Need to setup model with input parameters\n",
        "model_0 = FashionMNISTModelV0(input_shape=784, # one for every pixel (28x28)\n",
        "    hidden_units=10, # how many units in the hidden layer\n",
        "    output_shape=len(class_names) # one for every class\n",
        ")\n",
        "model_0.to(\"cpu\") # keep model on CPU to begin with"
      ]
    },
    {
      "cell_type": "code",
      "execution_count": null,
      "metadata": {
        "colab": {
          "background_save": true,
          "base_uri": "https://localhost:8080/"
        },
        "id": "3P47gBOgkTOo",
        "outputId": "bf8094be-f3f8-4ea1-d8d0-e5793ccb45e6"
      },
      "outputs": [
        {
          "name": "stdout",
          "output_type": "stream",
          "text": [
            "helper_functions.py already exists, skipping download\n"
          ]
        }
      ],
      "source": [
        "import requests\n",
        "from pathlib import Path\n",
        "\n",
        "# Download helper functions from Learn PyTorch repo (if not already downloaded)\n",
        "if Path(\"helper_functions.py\").is_file():\n",
        "  print(\"helper_functions.py already exists, skipping download\")\n",
        "else:\n",
        "  print(\"Downloading helper_functions.py\")\n",
        "  # Note: you need the \"raw\" GitHub URL for this to work\n",
        "  request = requests.get(\"https://raw.githubusercontent.com/mrdbourke/pytorch-deep-learning/main/helper_functions.py\")\n",
        "  with open(\"helper_functions.py\", \"wb\") as f:\n",
        "    f.write(request.content)"
      ]
    },
    {
      "cell_type": "code",
      "execution_count": null,
      "metadata": {
        "colab": {
          "background_save": true
        },
        "id": "MZonUodokj1b"
      },
      "outputs": [],
      "source": [
        "# Import accuracy metric\n",
        "#from helper_functions import accuracy_fn # Note: could also use torchmetrics.Accuracy(task = 'multiclass', num_classes=len(class_names)).to(device)\n",
        "\n",
        "# Setup loss function and optimizer\n",
        "loss_fn = nn.CrossEntropyLoss() # this is also called \"criterion\"/\"cost function\" in some places\n",
        "optimizer = torch.optim.SGD(params=model_0.parameters(), lr=0.1)"
      ]
    },
    {
      "cell_type": "code",
      "execution_count": null,
      "metadata": {
        "colab": {
          "background_save": true
        },
        "id": "R-1y56Soknib"
      },
      "outputs": [],
      "source": []
    }
  ],
  "metadata": {
    "colab": {
      "provenance": [],
      "authorship_tag": "ABX9TyP9PlkL82G7qQTzjK2lBBw2",
      "include_colab_link": true
    },
    "kernelspec": {
      "display_name": "Python 3",
      "name": "python3"
    },
    "language_info": {
      "name": "python"
    }
  },
  "nbformat": 4,
  "nbformat_minor": 0
}